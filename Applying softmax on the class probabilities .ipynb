{
 "cells": [
  {
   "cell_type": "markdown",
   "metadata": {},
   "source": [
    "## Applying softmax on the class probabilities \n",
    "\n",
    "The title of the notebook pretty much sums the objective. My idea was to extract the class probabilities from the ResNet50 model and applt the softmax function to scale them down and then convert them into discrete predictions. I trained the network for 15 epochs and on the entire training set (no validation set this time). "
   ]
  },
  {
   "cell_type": "code",
   "execution_count": 1,
   "metadata": {},
   "outputs": [],
   "source": [
    "import numpy as np\n",
    "import pandas as pd \n",
    "from collections import Counter\n",
    "\n",
    "import matplotlib.pyplot as plt\n",
    "plt.style.use('ggplot')\n",
    "\n",
    "import torch\n",
    "from fastai.vision import *\n",
    "from fastai.metrics import *\n",
    "\n",
    "np.random.seed(7)\n",
    "torch.cuda.manual_seed_all(7)\n",
    "\n",
    "%reload_ext autoreload\n",
    "%autoreload 2\n",
    "%matplotlib inline"
   ]
  },
  {
   "cell_type": "code",
   "execution_count": 2,
   "metadata": {},
   "outputs": [
    {
     "name": "stdout",
     "output_type": "stream",
     "text": [
      "['train.csv', 'train', 'test.csv', 'submission.csv', 'More experimentation.ipynb', 'A fresh approach.ipynb', 'test', 'models', '.ipynb_checkpoints', 'Identify the apparels.ipynb']\n"
     ]
    }
   ],
   "source": [
    "import os\n",
    "print(os.listdir(\"/home/jupyter/fashion_mnist/\"))"
   ]
  },
  {
   "cell_type": "code",
   "execution_count": 4,
   "metadata": {},
   "outputs": [
    {
     "data": {
      "text/plain": [
       "[PosixPath('/home/jupyter/fashion_mnist/train.csv'),\n",
       " PosixPath('/home/jupyter/fashion_mnist/train'),\n",
       " PosixPath('/home/jupyter/fashion_mnist/test.csv'),\n",
       " PosixPath('/home/jupyter/fashion_mnist/submission.csv'),\n",
       " PosixPath('/home/jupyter/fashion_mnist/More experimentation.ipynb'),\n",
       " PosixPath('/home/jupyter/fashion_mnist/A fresh approach.ipynb'),\n",
       " PosixPath('/home/jupyter/fashion_mnist/test'),\n",
       " PosixPath('/home/jupyter/fashion_mnist/models'),\n",
       " PosixPath('/home/jupyter/fashion_mnist/.ipynb_checkpoints'),\n",
       " PosixPath('/home/jupyter/fashion_mnist/Identify the apparels.ipynb')]"
      ]
     },
     "execution_count": 4,
     "metadata": {},
     "output_type": "execute_result"
    }
   ],
   "source": [
    "main_path = Path('/home/jupyter/fashion_mnist/')\n",
    "main_path.ls()"
   ]
  },
  {
   "cell_type": "code",
   "execution_count": 5,
   "metadata": {},
   "outputs": [],
   "source": [
    "train = pd.read_csv(main_path/'train.csv')\n",
    "sub_file = pd.read_csv(main_path/'test.csv')"
   ]
  },
  {
   "cell_type": "code",
   "execution_count": 20,
   "metadata": {},
   "outputs": [],
   "source": [
    "test_img = ImageList.from_df(sub_file, path=main_path, folder='test', suffix='.png')\n",
    "\n",
    "databunch = ImageList.from_df(train, path=main_path, folder='train', suffix='.png')\\\n",
    "            .split_none()\\\n",
    "            .label_from_df()\\\n",
    "            .add_test(test_img)\\\n",
    "            .transform(get_transforms(do_flip=True), size=28)\\\n",
    "            .databunch(path='.', bs=256, device= torch.device('cuda:0'))\\\n",
    "            .normalize()"
   ]
  },
  {
   "cell_type": "code",
   "execution_count": 23,
   "metadata": {},
   "outputs": [
    {
     "data": {
      "text/html": [
       "<table border=\"1\" class=\"dataframe\">\n",
       "  <thead>\n",
       "    <tr style=\"text-align: left;\">\n",
       "      <th>epoch</th>\n",
       "      <th>train_loss</th>\n",
       "      <th>valid_loss</th>\n",
       "      <th>error_rate</th>\n",
       "      <th>accuracy</th>\n",
       "      <th>time</th>\n",
       "    </tr>\n",
       "  </thead>\n",
       "  <tbody>\n",
       "    <tr>\n",
       "      <td>0</td>\n",
       "      <td>0.700494</td>\n",
       "      <td>#na#</td>\n",
       "      <td>00:37</td>\n",
       "    </tr>\n",
       "    <tr>\n",
       "      <td>1</td>\n",
       "      <td>0.423694</td>\n",
       "      <td>#na#</td>\n",
       "      <td>00:37</td>\n",
       "    </tr>\n",
       "    <tr>\n",
       "      <td>2</td>\n",
       "      <td>0.350454</td>\n",
       "      <td>#na#</td>\n",
       "      <td>00:37</td>\n",
       "    </tr>\n",
       "    <tr>\n",
       "      <td>3</td>\n",
       "      <td>0.315690</td>\n",
       "      <td>#na#</td>\n",
       "      <td>00:37</td>\n",
       "    </tr>\n",
       "    <tr>\n",
       "      <td>4</td>\n",
       "      <td>0.306955</td>\n",
       "      <td>#na#</td>\n",
       "      <td>00:37</td>\n",
       "    </tr>\n",
       "    <tr>\n",
       "      <td>5</td>\n",
       "      <td>0.277691</td>\n",
       "      <td>#na#</td>\n",
       "      <td>00:38</td>\n",
       "    </tr>\n",
       "    <tr>\n",
       "      <td>6</td>\n",
       "      <td>0.257720</td>\n",
       "      <td>#na#</td>\n",
       "      <td>00:37</td>\n",
       "    </tr>\n",
       "    <tr>\n",
       "      <td>7</td>\n",
       "      <td>0.238842</td>\n",
       "      <td>#na#</td>\n",
       "      <td>00:37</td>\n",
       "    </tr>\n",
       "    <tr>\n",
       "      <td>8</td>\n",
       "      <td>0.221911</td>\n",
       "      <td>#na#</td>\n",
       "      <td>00:37</td>\n",
       "    </tr>\n",
       "    <tr>\n",
       "      <td>9</td>\n",
       "      <td>0.200894</td>\n",
       "      <td>#na#</td>\n",
       "      <td>00:38</td>\n",
       "    </tr>\n",
       "    <tr>\n",
       "      <td>10</td>\n",
       "      <td>0.181770</td>\n",
       "      <td>#na#</td>\n",
       "      <td>00:38</td>\n",
       "    </tr>\n",
       "    <tr>\n",
       "      <td>11</td>\n",
       "      <td>0.164865</td>\n",
       "      <td>#na#</td>\n",
       "      <td>00:38</td>\n",
       "    </tr>\n",
       "    <tr>\n",
       "      <td>12</td>\n",
       "      <td>0.150012</td>\n",
       "      <td>#na#</td>\n",
       "      <td>00:38</td>\n",
       "    </tr>\n",
       "    <tr>\n",
       "      <td>13</td>\n",
       "      <td>0.141755</td>\n",
       "      <td>#na#</td>\n",
       "      <td>00:38</td>\n",
       "    </tr>\n",
       "    <tr>\n",
       "      <td>14</td>\n",
       "      <td>0.137222</td>\n",
       "      <td>#na#</td>\n",
       "      <td>00:38</td>\n",
       "    </tr>\n",
       "  </tbody>\n",
       "</table>"
      ],
      "text/plain": [
       "<IPython.core.display.HTML object>"
      ]
     },
     "metadata": {},
     "output_type": "display_data"
    }
   ],
   "source": [
    "learner = cnn_learner(databunch, models.resnet50, \n",
    "                      metrics=[error_rate, accuracy]).to_fp16()\n",
    "\n",
    "learner.unfreeze()\n",
    "learner.fit_one_cycle(15)"
   ]
  },
  {
   "cell_type": "code",
   "execution_count": 64,
   "metadata": {},
   "outputs": [],
   "source": [
    "preds = learner.get_preds(ds_type=DatasetType.Test)"
   ]
  },
  {
   "cell_type": "code",
   "execution_count": 34,
   "metadata": {},
   "outputs": [
    {
     "data": {
      "text/plain": [
       "torch.Size([10000, 10])"
      ]
     },
     "execution_count": 34,
     "metadata": {},
     "output_type": "execute_result"
    }
   ],
   "source": [
    "preds[0].shape"
   ]
  },
  {
   "cell_type": "code",
   "execution_count": 65,
   "metadata": {},
   "outputs": [],
   "source": [
    "preds = F.softmax(preds[0], dim=0)"
   ]
  },
  {
   "cell_type": "code",
   "execution_count": 66,
   "metadata": {},
   "outputs": [],
   "source": [
    "predIdxs = np.argmax(preds.numpy(), axis=1)"
   ]
  },
  {
   "cell_type": "code",
   "execution_count": 67,
   "metadata": {},
   "outputs": [
    {
     "data": {
      "text/plain": [
       "array([9, 2, 1, 1, ..., 1, 8, 1, 5])"
      ]
     },
     "execution_count": 67,
     "metadata": {},
     "output_type": "execute_result"
    }
   ],
   "source": [
    "np.array(predIdxs)"
   ]
  },
  {
   "cell_type": "code",
   "execution_count": 68,
   "metadata": {},
   "outputs": [],
   "source": [
    "sub_file['label'] = predIdxs\n",
    "sub_file.to_csv('submission.csv', index=False)"
   ]
  },
  {
   "cell_type": "code",
   "execution_count": 69,
   "metadata": {},
   "outputs": [],
   "source": [
    "learner.save('best-so-far')"
   ]
  },
  {
   "cell_type": "markdown",
   "metadata": {},
   "source": [
    "The result was instant:\n",
    "\n",
    "![](https://i.ibb.co/yqNhm4q/2019-05-07.png)"
   ]
  }
 ],
 "metadata": {
  "kernelspec": {
   "display_name": "Python 3",
   "language": "python",
   "name": "python3"
  },
  "language_info": {
   "codemirror_mode": {
    "name": "ipython",
    "version": 3
   },
   "file_extension": ".py",
   "mimetype": "text/x-python",
   "name": "python",
   "nbconvert_exporter": "python",
   "pygments_lexer": "ipython3",
   "version": "3.7.3"
  }
 },
 "nbformat": 4,
 "nbformat_minor": 2
}
